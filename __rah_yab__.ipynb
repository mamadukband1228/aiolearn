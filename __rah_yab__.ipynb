{
  "cells": [
    {
      "cell_type": "code",
      "execution_count": 10,
      "metadata": {
        "colab": {
          "base_uri": "https://localhost:8080/"
        },
        "id": "JGLKhVUhIGcZ",
        "outputId": "61750f0c-6b5c-4496-952c-668eb09810c8"
      },
      "outputs": [
        {
          "name": "stdout",
          "output_type": "stream",
          "text": [
            "http://api.openweathermap.org/data/2.5/weather?appid=9adced7ddff5c6dc7f031455d3dec00e&q=khar&units=metric\n",
            "{'lon': 94.4661, 'lat': 26.4688}    20.68\n"
          ]
        }
      ],
      "source": [
        "import requests, json\n",
        "\n",
        "api_key = \"9adced7ddff5c6dc7f031455d3dec00e\"\n",
        "\n",
        "base_url = \"http://api.openweathermap.org/data/2.5/weather?\"\n",
        "\n",
        "city_name = input(\"Enter city name : \")\n",
        "\n",
        "complete_url = base_url + \"appid=\" + api_key + \"&q=\" + city_name + \"&units=metric\"\n",
        "\n",
        "print(complete_url)\n",
        "\n",
        "response = requests.get(complete_url)\n",
        "\n",
        "x = response.json()\n",
        "\n",
        "print(x['coord'] , end=\"    \")\n",
        "print(x[\"main\"][\"temp\"])"
      ]
    },
    {
      "cell_type": "code",
      "execution_count": 3,
      "metadata": {},
      "outputs": [],
      "source": [
        "from pyowm import OWM\n",
        "from pyowm.utils import config\n",
        "from pyowm.utils import timestamps"
      ]
    },
    {
      "cell_type": "code",
      "execution_count": 4,
      "metadata": {},
      "outputs": [
        {
          "name": "stdout",
          "output_type": "stream",
          "text": [
            "29.99\n"
          ]
        }
      ],
      "source": [
        "owm = OWM('9adced7ddff5c6dc7f031455d3dec00e')\n",
        "\n",
        "mgr = owm.weather_manager()\n",
        "observation = mgr.weather_at_place('tehran')\n",
        "w = observation.weather\n",
        "\n",
        "temp=w.temperature(unit='celsius')['temp']\n",
        " \n",
        "print(temp)         \n",
        "     "
      ]
    }
  ],
  "metadata": {
    "colab": {
      "provenance": []
    },
    "kernelspec": {
      "display_name": "Python 3",
      "name": "python3"
    },
    "language_info": {
      "codemirror_mode": {
        "name": "ipython",
        "version": 3
      },
      "file_extension": ".py",
      "mimetype": "text/x-python",
      "name": "python",
      "nbconvert_exporter": "python",
      "pygments_lexer": "ipython3",
      "version": "3.8.8"
    }
  },
  "nbformat": 4,
  "nbformat_minor": 0
}
