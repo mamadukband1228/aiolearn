{
 "cells": [
  {
   "cell_type": "code",
   "execution_count": 2,
   "metadata": {},
   "outputs": [
    {
     "name": "stdout",
     "output_type": "stream",
     "text": [
      "amir's age is 18 years or 224 months or 6791 day or 162984 hours or 586742400 seconds\n"
     ]
    }
   ],
   "source": [
    "import time\n",
    "from calendar import isleap\n",
    "\n",
    "\n",
    "def judge_leap_year(year):\n",
    "    if isleap(year):\n",
    "        return True\n",
    "    else:\n",
    "        return False\n",
    "\n",
    "\n",
    "def month_days(month, leap_year):\n",
    "    if month in [1,3,5,7,8,10,12]:\n",
    "        return 31\n",
    "    elif month in [4,6,9,11]:\n",
    "        return 30\n",
    "    elif month == 2 and leap_year:\n",
    "        return 29\n",
    "    elif month == 2 and (not leap_year):\n",
    "        return 28\n",
    "    \n",
    "\n",
    "def to_hours(days):\n",
    "    hours = days*24\n",
    "    return hours\n",
    "\n",
    "def to_seconds(days):\n",
    "    sec = days * 24 * 3600\n",
    "    return sec\n",
    "\n",
    "\n",
    "name = input(\"input your name: \")\n",
    "age = input(\"input your age: \")\n",
    "localtime = time.localtime(time.time())\n",
    "\n",
    "year = int(age)\n",
    "month = year * 12 + localtime.tm_mon\n",
    "day = 0\n",
    "\n",
    "\n",
    "begin_year = int(localtime.tm_year) - year\n",
    "end_year = begin_year + year\n",
    "\n",
    "\n",
    "\n",
    "for y in range(begin_year, end_year):\n",
    "    if (judge_leap_year(y)):\n",
    "        day = day + 366\n",
    "    else:\n",
    "        day = day + 365\n",
    "\n",
    "leap_year = judge_leap_year(localtime.tm_year)\n",
    "for m in range(1, localtime.tm_mon):\n",
    "    day = day + month_days(m, leap_year)\n",
    "\n",
    "\n",
    "day = day + localtime.tm_mday \n",
    " \n",
    "\n",
    "hours = to_hours(day)\n",
    "seconds = to_seconds(day)\n",
    "\n",
    "print(\"%s's age is %d years or \" %(name, year), end=\"\")\n",
    "print(\"%d months or %d day\" %(month, day), end=\"\")\n",
    "print(\" or %d hours or %d seconds\" %(hours , seconds))\n",
    "\n"
   ]
  }
 ],
 "metadata": {
  "kernelspec": {
   "display_name": "Python 3",
   "language": "python",
   "name": "python3"
  },
  "language_info": {
   "codemirror_mode": {
    "name": "ipython",
    "version": 3
   },
   "file_extension": ".py",
   "mimetype": "text/x-python",
   "name": "python",
   "nbconvert_exporter": "python",
   "pygments_lexer": "ipython3",
   "version": "3.8.8"
  }
 },
 "nbformat": 4,
 "nbformat_minor": 2
}
